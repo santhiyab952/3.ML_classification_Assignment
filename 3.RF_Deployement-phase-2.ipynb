{
 "cells": [
  {
   "cell_type": "code",
   "execution_count": 1,
   "metadata": {},
   "outputs": [],
   "source": [
    "import pickle"
   ]
  },
  {
   "cell_type": "code",
   "execution_count": 3,
   "metadata": {},
   "outputs": [],
   "source": [
    "filename=\"finalized_model_Random_Forest.sav\" \n",
    "model=pickle.load(open(filename,'rb'))"
   ]
  },
  {
   "cell_type": "code",
   "execution_count": 4,
   "metadata": {},
   "outputs": [
    {
     "name": "stdout",
     "output_type": "stream",
     "text": [
      "age:34\n",
      "bp:5.8\n",
      "su:8.0\n",
      "bp:0.87\n",
      "al:0.34\n",
      "bgr0.345\n",
      "bu:23.07\n",
      "sc9.05\n",
      "sod:5.678\n",
      "pot:4.780\n",
      "hrmo:3.12\n",
      "pc_normal:1\n",
      "pcc_present:1\n",
      "ba_present:1\n",
      "cad_yes_no:1\n",
      "htn_yes_no:10\n",
      "dm_yes_no:1\n",
      "appet_yes_no:10\n",
      "ane_yes_no:0\n",
      "pe:1\n"
     ]
    }
   ],
   "source": [
    "age_input=int(input(\"age:\"))\n",
    "bp_input=float(input(\"bp:\"))\n",
    "su_input=float(input(\"su:\"))\n",
    "bp_input=float(input('bp:'))\n",
    "al_input=float(input(\"al:\"))\n",
    "bgr_input=float(input(\"bgr\"))\n",
    "bu_input=float(input(\"bu:\"))\n",
    "sc_input=float(input(\"sc\"))\n",
    "sod_input=float(input(\"sod:\"))\n",
    "pot_input=float(input(\"pot:\"))\n",
    "hrmo_input=float(input(\"hrmo:\"))\n",
    "pc_input=int(input(\"pc_normal:\"))\n",
    "pcc_input=int(input(\"pcc_present:\"))\n",
    "ba_input=int(input(\"ba_present:\"))\n",
    "cad_input=int(input(\"cad_yes_no:\"))\n",
    "htn_input=int(input(\"htn_yes_no:\"))\n",
    "dm_input=int(input(\"dm_yes_no:\"))\n",
    "appet_input=int(input(\"appet_yes_no:\"))\n",
    "ane_input=int(input(\"ane_yes_no:\"))\n",
    "pe_input=int(input(\"pe:\"))\n"
   ]
  },
  {
   "cell_type": "code",
   "execution_count": 5,
   "metadata": {},
   "outputs": [
    {
     "name": "stdout",
     "output_type": "stream",
     "text": [
      "Future_prediction=[1]\n"
     ]
    }
   ],
   "source": [
    "Future_prediction=model.predict([[age_input,bp_input,su_input,al_input,bgr_input,bu_input,sc_input,sod_input,pot_input,\n",
    "                                 hrmo_input,pc_input,pcc_input,ba_input,cad_input,htn_input,\n",
    "                                 dm_input,appet_input,ane_input,pe_input]])\n",
    "print(\"Future_prediction={}\".format(Future_prediction))"
   ]
  },
  {
   "cell_type": "code",
   "execution_count": null,
   "metadata": {},
   "outputs": [],
   "source": []
  }
 ],
 "metadata": {
  "kernelspec": {
   "display_name": "Python 3",
   "language": "python",
   "name": "python3"
  },
  "language_info": {
   "codemirror_mode": {
    "name": "ipython",
    "version": 3
   },
   "file_extension": ".py",
   "mimetype": "text/x-python",
   "name": "python",
   "nbconvert_exporter": "python",
   "pygments_lexer": "ipython3",
   "version": "3.7.4"
  }
 },
 "nbformat": 4,
 "nbformat_minor": 2
}
